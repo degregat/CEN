{
 "cells": [
  {
   "cell_type": "code",
   "execution_count": null,
   "metadata": {},
   "outputs": [],
   "source": [
    "include(\"sharding.jl\")"
   ]
  },
  {
   "cell_type": "code",
   "execution_count": null,
   "metadata": {},
   "outputs": [],
   "source": [
    "# If the needed lab extensions are not installed yet,\n",
    "# uncomment and execute the following two lines:\n",
    "#using WebIO\n",
    "#WebIO.install_jupyter_labextension()"
   ]
  },
  {
   "cell_type": "code",
   "execution_count": null,
   "metadata": {},
   "outputs": [],
   "source": [
    "using GR\n",
    "using Interact"
   ]
  },
  {
   "cell_type": "code",
   "execution_count": null,
   "metadata": {},
   "outputs": [],
   "source": [
    "@manipulate for rmax = 1:1:96, amax = 0.05:0.05:0.5\n",
    "        rot = 1:1:rmax\n",
    "        ang = 0.05:0.05:amax\n",
    "        p1 = surface(rot, ang, bw,\n",
    "                     xlabel=\"rotations\",\n",
    "                     ylabel=\"angle (°)\",\n",
    "                     zlabel=\"MB per user\")\n",
    "        \n",
    "end\n",
    "# rmax and amax set the maximum number of rotations \n",
    "# and the maximum angle of a shard to explore different scales \n",
    "# of the tradeoff."
   ]
  }
 ],
 "metadata": {
  "@webio": {
   "lastCommId": null,
   "lastKernelId": null
  },
  "kernelspec": {
   "display_name": "Julia 1.3.0",
   "language": "julia",
   "name": "julia-1.3"
  },
  "language_info": {
   "file_extension": ".jl",
   "mimetype": "application/julia",
   "name": "julia",
   "version": "1.3.0"
  }
 },
 "nbformat": 4,
 "nbformat_minor": 4
}
